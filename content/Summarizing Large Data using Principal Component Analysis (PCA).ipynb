{
 "cells": [
  {
   "cell_type": "code",
   "execution_count": null,
   "metadata": {},
   "outputs": [],
   "source": [
    "# Se importan las librerias necesarias\n",
    "from sklearn.decomposition import PCA\n",
    "import pandas as pd\n",
    "from sklearn.preprocessing import StandardScaler\n",
    "\n",
    "# Se lee el conjunto de datos\n",
    "data = pd.read_csv(\"data/file_pe_headers.csv\", sep=\",\")\n",
    "X = data.drop([\"Name\", \"Malware\"], axis=1).to_numpy()\n",
    "\n",
    "# Se estandarizan los datos ya que para el PCA es necesario.\n",
    "X_standardized = StandardScaler().fit_transform(X)"
   ]
  },
  {
   "cell_type": "code",
   "execution_count": null,
   "metadata": {},
   "outputs": [],
   "source": [
    "# Se reduce la dimensionalidad de nuestros datos\n",
    "pca = PCA()\n",
    "pca.fit_transform(X_standardized)\n",
    "\n",
    "print(pca.explained_variance_ratio_)\n",
    "sum(pca.explained_variance_ratio_)"
   ]
  },
  {
   "cell_type": "code",
   "execution_count": null,
   "metadata": {},
   "outputs": [],
   "source": [
    "# Se puede observar que si solo cogemos las 40 primeras carácteristicas explican el 90% de la varianza\n",
    "sum(pca.explained_variance_ratio_[0:40])"
   ]
  }
 ],
 "metadata": {
  "kernelspec": {
   "display_name": "Python 3 (ipykernel)",
   "language": "python",
   "name": "python3"
  },
  "language_info": {
   "codemirror_mode": {
    "name": "ipython",
    "version": 3
   },
   "file_extension": ".py",
   "mimetype": "text/x-python",
   "name": "python",
   "nbconvert_exporter": "python",
   "pygments_lexer": "ipython3",
   "version": "3.10.7"
  }
 },
 "nbformat": 4,
 "nbformat_minor": 4
}
